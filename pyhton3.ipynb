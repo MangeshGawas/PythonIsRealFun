{
  "nbformat": 4,
  "nbformat_minor": 0,
  "metadata": {
    "colab": {
      "provenance": [],
      "authorship_tag": "ABX9TyMwbJ6wHYefdfNSi9oQtxPl",
      "include_colab_link": true
    },
    "kernelspec": {
      "name": "python3",
      "display_name": "Python 3"
    },
    "language_info": {
      "name": "python"
    }
  },
  "cells": [
    {
      "cell_type": "markdown",
      "metadata": {
        "id": "view-in-github",
        "colab_type": "text"
      },
      "source": [
        "<a href=\"https://colab.research.google.com/github/MangeshGawas/PythonIsRealFun/blob/main/pyhton3.ipynb\" target=\"_parent\"><img src=\"https://colab.research.google.com/assets/colab-badge.svg\" alt=\"Open In Colab\"/></a>"
      ]
    },
    {
      "cell_type": "markdown",
      "source": [
        "# conditional statement , comparison operator"
      ],
      "metadata": {
        "id": "ZDsmUiNEuIf3"
      }
    },
    {
      "cell_type": "code",
      "source": [
        "print(\"Rider can ride the bike base on his/her height parameter\")\n",
        "height = int(input(\"What is the your height in cm: \"))\n",
        "if height >= 120:\n",
        "  print(\"You can ride the bike\")\n",
        "else:\n",
        "  print(\"You can't ride the bike, height is short\")\n"
      ],
      "metadata": {
        "colab": {
          "base_uri": "https://localhost:8080/"
        },
        "id": "Ti12R5DKuMuf",
        "outputId": "4e6aa3dd-a9f9-426d-f1f6-be3e41a7fede"
      },
      "execution_count": 3,
      "outputs": [
        {
          "output_type": "stream",
          "name": "stdout",
          "text": [
            "Rider can ride the bike base on his/her height parameter\n",
            "What is the your height in cm: 120\n",
            "You can ride the bike\n"
          ]
        }
      ]
    },
    {
      "cell_type": "code",
      "source": [
        "print(\"Rider can ride the bike base on his/her height parameter\")\n",
        "height = int(input(\"What is the your height in cm: \"))\n",
        "age = int(input(\"What is the your age: \"))\n",
        "if height >= 120:\n",
        "  if age > 18:\n",
        "    print(\"You can ride the bike\")\n",
        "  else:\n",
        "    print(\"You are not 18 year old so eligibilty criteria not matching\")\n",
        "else:\n",
        "  print(\"You can't ride the bike, height is short\")\n"
      ],
      "metadata": {
        "colab": {
          "base_uri": "https://localhost:8080/"
        },
        "id": "KSVtn5ZavMhU",
        "outputId": "c4eb180c-7c90-4789-d861-8a1661ad68c7"
      },
      "execution_count": 6,
      "outputs": [
        {
          "output_type": "stream",
          "name": "stdout",
          "text": [
            "Rider can ride the bike base on his/her height parameter\n",
            "What is the your height in cm: 120\n",
            "What is the your age: 19\n",
            "You can ride the bike\n"
          ]
        }
      ]
    },
    {
      "cell_type": "code",
      "source": [],
      "metadata": {
        "id": "a71gj0GuvShs"
      },
      "execution_count": null,
      "outputs": []
    }
  ]
}