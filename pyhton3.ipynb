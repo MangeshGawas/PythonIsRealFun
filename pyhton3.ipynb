{
  "nbformat": 4,
  "nbformat_minor": 0,
  "metadata": {
    "colab": {
      "provenance": [],
      "authorship_tag": "ABX9TyPHi5Exk3VrguBF65PSU1+L",
      "include_colab_link": true
    },
    "kernelspec": {
      "name": "python3",
      "display_name": "Python 3"
    },
    "language_info": {
      "name": "python"
    }
  },
  "cells": [
    {
      "cell_type": "markdown",
      "metadata": {
        "id": "view-in-github",
        "colab_type": "text"
      },
      "source": [
        "<a href=\"https://colab.research.google.com/github/MangeshGawas/PythonIsRealFun/blob/main/pyhton3.ipynb\" target=\"_parent\"><img src=\"https://colab.research.google.com/assets/colab-badge.svg\" alt=\"Open In Colab\"/></a>"
      ]
    },
    {
      "cell_type": "markdown",
      "source": [
        "# conditional statement , comparison operator"
      ],
      "metadata": {
        "id": "ZDsmUiNEuIf3"
      }
    },
    {
      "cell_type": "code",
      "source": [
        "print(\"Rider can ride the bike base on his/her height parameter\")\n",
        "height = int(input(\"What is the your height in cm: \"))\n",
        "if height >= 120:\n",
        "  print(\"You can ride the bike\")\n",
        "else:\n",
        "  print(\"You can't ride the bike, height is short\")\n"
      ],
      "metadata": {
        "colab": {
          "base_uri": "https://localhost:8080/"
        },
        "id": "Ti12R5DKuMuf",
        "outputId": "4e6aa3dd-a9f9-426d-f1f6-be3e41a7fede"
      },
      "execution_count": null,
      "outputs": [
        {
          "output_type": "stream",
          "name": "stdout",
          "text": [
            "Rider can ride the bike base on his/her height parameter\n",
            "What is the your height in cm: 120\n",
            "You can ride the bike\n"
          ]
        }
      ]
    },
    {
      "cell_type": "code",
      "source": [
        "print(\"Rider can ride the bike base on his/her height parameter\")\n",
        "height = int(input(\"What is the your height in cm: \"))\n",
        "age = int(input(\"What is the your age: \"))\n",
        "if height >= 120:\n",
        "  if age > 18:\n",
        "    print(\"You can ride the bike\")\n",
        "  else:\n",
        "    print(\"You are not 18 year old so eligibilty criteria not matching\")\n",
        "else:\n",
        "  print(\"You can't ride the bike, height is short\")\n"
      ],
      "metadata": {
        "colab": {
          "base_uri": "https://localhost:8080/"
        },
        "id": "KSVtn5ZavMhU",
        "outputId": "29552c49-57d9-40fd-8f5e-143c8b7982d6"
      },
      "execution_count": 7,
      "outputs": [
        {
          "output_type": "stream",
          "name": "stdout",
          "text": [
            "Rider can ride the bike base on his/her height parameter\n",
            "What is the your height in cm: 122\n",
            "What is the your age: 19\n",
            "You can ride the bike\n"
          ]
        }
      ]
    },
    {
      "cell_type": "code",
      "source": [
        "print(\"Rider can ride the bike base on his/her height parameter\")\n",
        "height = int(input(\"What is the your height in cm: \"))\n",
        "age = int(input(\"What is the your age: \"))\n",
        "bill = 0\n",
        "if height >= 120:\n",
        "  if age <12 :\n",
        "    bill = 5\n",
        "    print(\"Child ticket is $5\")\n",
        "  elif age<=18:\n",
        "    bill=7\n",
        "    print(\"child ticket is $7\")\n",
        "  else:\n",
        "    bill = 12\n",
        "    print(\"Adult ticket is $12\")\n",
        "\n",
        "  want_photo = input(\"Do you want photo ?'Y' or 'N'\")\n",
        "  if want_photo ==\"Y\":\n",
        "    bill = bill+3\n",
        "  print(f\"Here is your Bill {bill}\")\n",
        "else:\n",
        "  print(\"You can't ride the bike, height is short\")\n"
      ],
      "metadata": {
        "id": "a71gj0GuvShs",
        "colab": {
          "base_uri": "https://localhost:8080/"
        },
        "outputId": "7c5c5ca7-f70f-49c3-eab9-45b6a76854ca"
      },
      "execution_count": 6,
      "outputs": [
        {
          "output_type": "stream",
          "name": "stdout",
          "text": [
            "Rider can ride the bike base on his/her height parameter\n",
            "What is the your height in cm: 122\n",
            "What is the your age: 13\n",
            "child ticket is $7\n",
            "Do you want photo ?'Y' or 'N'Y\n",
            "Here is your Bill 10\n"
          ]
        }
      ]
    },
    {
      "cell_type": "markdown",
      "source": [
        "# Logical operator\n"
      ],
      "metadata": {
        "id": "lQPoIlEBu_XO"
      }
    },
    {
      "cell_type": "code",
      "source": [
        "print(\"Rider can ride the bike base on his/her height parameter\")\n",
        "height = int(input(\"What is the your height in cm: \"))\n",
        "age = int(input(\"What is the your age: \"))\n",
        "bill = 0\n",
        "if height >= 120:\n",
        "  if age <12 :\n",
        "    bill = 5\n",
        "    print(\"Child ticket is $5\")\n",
        "  elif age<=18:\n",
        "    bill=7\n",
        "    print(\"child ticket is $7\")\n",
        "  elif age>=45 and age<=55:\n",
        "    bill = 0\n",
        "    print(\"free Ride\")\n",
        "  else:\n",
        "    bill = 12\n",
        "    print(\"Adult ticket is $12\")\n",
        "\n",
        "  want_photo = input(\"Do you want photo ?'Y' or 'N'\")\n",
        "  if want_photo ==\"Y\":\n",
        "    bill = bill+3\n",
        "  print(f\"Here is your Bill {bill}\")\n",
        "else:\n",
        "  print(\"You can't ride the bike, height is short\")\n"
      ],
      "metadata": {
        "colab": {
          "base_uri": "https://localhost:8080/"
        },
        "id": "-YK_BWYcvFiJ",
        "outputId": "4af8768c-d97d-48f3-85a7-4f1ad16d5d59"
      },
      "execution_count": 17,
      "outputs": [
        {
          "output_type": "stream",
          "name": "stdout",
          "text": [
            "Rider can ride the bike base on his/her height parameter\n",
            "What is the your height in cm: 122\n",
            "What is the your age: 45\n",
            "free Ride\n",
            "Do you want photo ?'Y' or 'N'Y\n",
            "Here is your Bill 3\n"
          ]
        }
      ]
    },
    {
      "cell_type": "code",
      "source": [],
      "metadata": {
        "id": "ZRarmRdCvsCY"
      },
      "execution_count": null,
      "outputs": []
    }
  ]
}