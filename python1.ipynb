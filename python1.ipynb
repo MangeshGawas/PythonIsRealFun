{
  "nbformat": 4,
  "nbformat_minor": 0,
  "metadata": {
    "colab": {
      "provenance": [],
      "authorship_tag": "ABX9TyOw5cpZxovOp6ng3n3zf3JV",
      "include_colab_link": true
    },
    "kernelspec": {
      "name": "python3",
      "display_name": "Python 3"
    },
    "language_info": {
      "name": "python"
    }
  },
  "cells": [
    {
      "cell_type": "markdown",
      "metadata": {
        "id": "view-in-github",
        "colab_type": "text"
      },
      "source": [
        "<a href=\"https://colab.research.google.com/github/MangeshGawas/PythonIsRealFun/blob/main/python1.ipynb\" target=\"_parent\"><img src=\"https://colab.research.google.com/assets/colab-badge.svg\" alt=\"Open In Colab\"/></a>"
      ]
    },
    {
      "cell_type": "markdown",
      "source": [
        "# printing, commenting, string manipulation, debugging\n"
      ],
      "metadata": {
        "id": "aeT6B0jFPxTx"
      }
    },
    {
      "cell_type": "code",
      "source": [
        "print(\"Hello world\")\n",
        "print(\"Hello world\")\n",
        "print(\"Hello world\")\n",
        "\n",
        "print('''\n",
        "Hello world\n",
        "Hello world\n",
        "Hello world\n",
        "''')\n",
        "\n",
        "print(\"Hello world\\nHello world\\nHello world\")\n",
        "\n",
        "string1 =\"Hello world\"\n",
        "print(string1 + \" \"+ string1 + \" \" + string1)\n",
        "print(\"Be careful about indentation error\")"
      ],
      "metadata": {
        "colab": {
          "base_uri": "https://localhost:8080/"
        },
        "id": "d7JPNHUcPA-N",
        "outputId": "59f1d587-36ef-451c-d467-e890ce2e9e0d"
      },
      "execution_count": 25,
      "outputs": [
        {
          "output_type": "stream",
          "name": "stdout",
          "text": [
            "Hello world\n",
            "Hello world\n",
            "Hello world\n",
            "\n",
            "Hello world\n",
            "Hello world\n",
            "Hello world\n",
            "\n",
            "Hello world\n",
            "Hello world\n",
            "Hello world\n",
            "Hello world Hello world Hello world\n",
            "Be careful about indentation error\n"
          ]
        }
      ]
    },
    {
      "cell_type": "code",
      "source": [
        "print(\"Hello\",input(\"Enter your name\")+\"!\")"
      ],
      "metadata": {
        "id": "93pOtGr4Qi1K",
        "colab": {
          "base_uri": "https://localhost:8080/"
        },
        "outputId": "262d4074-e43e-4d01-e92e-d80b69d7ff61"
      },
      "execution_count": 29,
      "outputs": [
        {
          "output_type": "stream",
          "name": "stdout",
          "text": [
            "Enter your nameMangesh\n",
            "Hello Mangesh!\n"
          ]
        }
      ]
    },
    {
      "cell_type": "code",
      "source": [],
      "metadata": {
        "id": "2VLw0LLxdLhx"
      },
      "execution_count": 29,
      "outputs": []
    }
  ]
}