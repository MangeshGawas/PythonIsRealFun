{
  "nbformat": 4,
  "nbformat_minor": 0,
  "metadata": {
    "colab": {
      "provenance": [],
      "authorship_tag": "ABX9TyOc/s2FEbXEsepzjVE/aF35",
      "include_colab_link": true
    },
    "kernelspec": {
      "name": "python3",
      "display_name": "Python 3"
    },
    "language_info": {
      "name": "python"
    }
  },
  "cells": [
    {
      "cell_type": "markdown",
      "metadata": {
        "id": "view-in-github",
        "colab_type": "text"
      },
      "source": [
        "<a href=\"https://colab.research.google.com/github/MangeshGawas/PythonIsRealFun/blob/main/python1.ipynb\" target=\"_parent\"><img src=\"https://colab.research.google.com/assets/colab-badge.svg\" alt=\"Open In Colab\"/></a>"
      ]
    },
    {
      "cell_type": "markdown",
      "source": [
        "# printing, commenting, string manipulation, debugging\n"
      ],
      "metadata": {
        "id": "aeT6B0jFPxTx"
      }
    },
    {
      "cell_type": "code",
      "source": [
        "print(\"Hello world\")\n",
        "print(\"Hello world\")\n",
        "print(\"Hello world\")\n",
        "\n",
        "print('''\n",
        "Hello world\n",
        "Hello world\n",
        "Hello world\n",
        "''')\n",
        "\n",
        "print(\"Hello world\\nHello world\\nHello world\")\n",
        "\n",
        "string1 =\"Hello world\"\n",
        "print(string1 + \" \"+ string1 + \" \" + string1)\n",
        "print(\"Be careful about indentation error\")"
      ],
      "metadata": {
        "colab": {
          "base_uri": "https://localhost:8080/"
        },
        "id": "d7JPNHUcPA-N",
        "outputId": "59f1d587-36ef-451c-d467-e890ce2e9e0d"
      },
      "execution_count": null,
      "outputs": [
        {
          "output_type": "stream",
          "name": "stdout",
          "text": [
            "Hello world\n",
            "Hello world\n",
            "Hello world\n",
            "\n",
            "Hello world\n",
            "Hello world\n",
            "Hello world\n",
            "\n",
            "Hello world\n",
            "Hello world\n",
            "Hello world\n",
            "Hello world Hello world Hello world\n",
            "Be careful about indentation error\n"
          ]
        }
      ]
    },
    {
      "cell_type": "code",
      "source": [
        "#input is the inbuilt prompt function\n",
        "\n",
        "print(\"Hello\",input(\"Enter your name\")+\"!\")"
      ],
      "metadata": {
        "id": "93pOtGr4Qi1K",
        "colab": {
          "base_uri": "https://localhost:8080/"
        },
        "outputId": "e52b9c70-5392-44b4-d0f1-55ad2221bbbc"
      },
      "execution_count": null,
      "outputs": [
        {
          "output_type": "stream",
          "name": "stdout",
          "text": [
            "Enter your nameMangesh\n",
            "Hello Mangesh!\n"
          ]
        }
      ]
    },
    {
      "cell_type": "code",
      "source": [
        "#python variables\n",
        "name = input(\"what is your name?\")\n",
        "print(name)"
      ],
      "metadata": {
        "colab": {
          "base_uri": "https://localhost:8080/"
        },
        "id": "2VLw0LLxdLhx",
        "outputId": "e464d8d9-b28f-4827-a520-c21bea68fcc2"
      },
      "execution_count": null,
      "outputs": [
        {
          "output_type": "stream",
          "name": "stdout",
          "text": [
            "what is your name?Iron Man\n",
            "Iron Man\n"
          ]
        }
      ]
    },
    {
      "cell_type": "code",
      "source": [
        "length=len(name)\n",
        "print(length)"
      ],
      "metadata": {
        "colab": {
          "base_uri": "https://localhost:8080/"
        },
        "id": "V-67wqxueKUm",
        "outputId": "4c35e53d-dbc3-4388-ac1b-24e1c70696f9"
      },
      "execution_count": null,
      "outputs": [
        {
          "output_type": "stream",
          "name": "stdout",
          "text": [
            "8\n"
          ]
        }
      ]
    },
    {
      "cell_type": "code",
      "source": [
        "#Apply all this concept in one project"
      ],
      "metadata": {
        "id": "qjEbURpSgZOp"
      },
      "execution_count": null,
      "outputs": []
    },
    {
      "cell_type": "code",
      "source": [
        "#greet the band\n",
        "print(\"Welcome to the band name Generator\")\n",
        "#ask for a city\n",
        "city = input(\"which city did you grow up in?\")\n",
        "#ask for a pet name\n",
        "pet = input(\"What is your pet name\")\n",
        "#combine the name"
      ],
      "metadata": {
        "id": "jhyVeWqWgv-i"
      },
      "execution_count": null,
      "outputs": []
    }
  ]
}