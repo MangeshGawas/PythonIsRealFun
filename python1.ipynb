{
  "nbformat": 4,
  "nbformat_minor": 0,
  "metadata": {
    "colab": {
      "provenance": [],
      "authorship_tag": "ABX9TyMNOGnyYQwvNNzRrEVX7dDE",
      "include_colab_link": true
    },
    "kernelspec": {
      "name": "python3",
      "display_name": "Python 3"
    },
    "language_info": {
      "name": "python"
    }
  },
  "cells": [
    {
      "cell_type": "markdown",
      "metadata": {
        "id": "view-in-github",
        "colab_type": "text"
      },
      "source": [
        "<a href=\"https://colab.research.google.com/github/MangeshGawas/PythonIsRealFun/blob/main/python1.ipynb\" target=\"_parent\"><img src=\"https://colab.research.google.com/assets/colab-badge.svg\" alt=\"Open In Colab\"/></a>"
      ]
    },
    {
      "cell_type": "markdown",
      "source": [
        "# printing, commenting, string manipulation, debugging\n"
      ],
      "metadata": {
        "id": "aeT6B0jFPxTx"
      }
    },
    {
      "cell_type": "code",
      "source": [
        "print(\"Hello world\")\n",
        "print(\"Hello world\")\n",
        "print(\"Hello world\")\n",
        "\n",
        "print('''\n",
        "Hello world\n",
        "Hello world\n",
        "Hello world\n",
        "''')\n",
        "\n",
        "print(\"Hello world\\nHello world\\nHello world\")\n",
        "\n",
        "string1 =\"Hello world\"\n",
        "print(string1 + \" \"+ string1 + \" \" + string1)\n",
        "print(\"Be careful about indentation error\")"
      ],
      "metadata": {
        "colab": {
          "base_uri": "https://localhost:8080/"
        },
        "id": "d7JPNHUcPA-N",
        "outputId": "8b97eb4e-7c38-43bb-b693-866584a3edbe"
      },
      "execution_count": null,
      "outputs": [
        {
          "output_type": "stream",
          "name": "stdout",
          "text": [
            "Hello world\n",
            "Hello world\n",
            "Hello world\n",
            "\n",
            "Hello world\n",
            "Hello world\n",
            "Hello world\n",
            "\n",
            "Hello world\n",
            "Hello world\n",
            "Hello world\n",
            "Hello world Hello world Hello world\n",
            "Be careful about indentation error\n"
          ]
        }
      ]
    },
    {
      "cell_type": "code",
      "source": [],
      "metadata": {
        "id": "93pOtGr4Qi1K"
      },
      "execution_count": null,
      "outputs": []
    }
  ]
}