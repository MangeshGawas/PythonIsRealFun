{
  "nbformat": 4,
  "nbformat_minor": 0,
  "metadata": {
    "colab": {
      "provenance": [],
      "authorship_tag": "ABX9TyPdeVa137a7ZuDMrQ7UsNyp",
      "include_colab_link": true
    },
    "kernelspec": {
      "name": "python3",
      "display_name": "Python 3"
    },
    "language_info": {
      "name": "python"
    }
  },
  "cells": [
    {
      "cell_type": "markdown",
      "metadata": {
        "id": "view-in-github",
        "colab_type": "text"
      },
      "source": [
        "<a href=\"https://colab.research.google.com/github/MangeshGawas/PythonIsRealFun/blob/main/python2.ipynb\" target=\"_parent\"><img src=\"https://colab.research.google.com/assets/colab-badge.svg\" alt=\"Open In Colab\"/></a>"
      ]
    },
    {
      "cell_type": "markdown",
      "source": [
        "# data types, numbers ,operation ,type conversion , f string\n",
        "\n"
      ],
      "metadata": {
        "id": "N9qDvSUDmQvT"
      }
    },
    {
      "cell_type": "code",
      "source": [
        "#data type\n",
        "\n",
        "#string\n",
        "mystring = \"Hello world\"\n",
        "print(mystring[0])\n",
        "print(mystring[1])\n"
      ],
      "metadata": {
        "colab": {
          "base_uri": "https://localhost:8080/"
        },
        "id": "HdVe78xomLQq",
        "outputId": "8a4bff43-315d-4396-dcbc-8205856ce752"
      },
      "execution_count": 7,
      "outputs": [
        {
          "output_type": "stream",
          "name": "stdout",
          "text": [
            "H\n",
            "e\n",
            "H\n",
            "e\n",
            "l\n",
            "l\n",
            "o\n",
            " \n",
            "w\n",
            "o\n",
            "r\n",
            "l\n",
            "d\n"
          ]
        }
      ]
    },
    {
      "cell_type": "code",
      "source": [
        "for i in range(len(mystring)):\n",
        "  print(mystring[i])"
      ],
      "metadata": {
        "colab": {
          "base_uri": "https://localhost:8080/"
        },
        "id": "gru7Xje3mOsd",
        "outputId": "909323e9-3b6f-420f-a865-165915e57ed7"
      },
      "execution_count": 8,
      "outputs": [
        {
          "output_type": "stream",
          "name": "stdout",
          "text": [
            "H\n",
            "e\n",
            "l\n",
            "l\n",
            "o\n",
            " \n",
            "w\n",
            "o\n",
            "r\n",
            "l\n",
            "d\n"
          ]
        }
      ]
    },
    {
      "cell_type": "code",
      "source": [
        "print(\"123\"+\"345\")"
      ],
      "metadata": {
        "colab": {
          "base_uri": "https://localhost:8080/"
        },
        "id": "GofGTdFonpw-",
        "outputId": "9517e81f-28a9-46dd-b3b0-6c5793ca975c"
      },
      "execution_count": 9,
      "outputs": [
        {
          "output_type": "stream",
          "name": "stdout",
          "text": [
            "123345\n"
          ]
        }
      ]
    },
    {
      "cell_type": "code",
      "source": [
        "#interger\n",
        "print(123+345)"
      ],
      "metadata": {
        "colab": {
          "base_uri": "https://localhost:8080/"
        },
        "id": "L4-0EaEPn1cw",
        "outputId": "6d6dae70-a685-4f44-e099-ce712c6ea46e"
      },
      "execution_count": 10,
      "outputs": [
        {
          "output_type": "stream",
          "name": "stdout",
          "text": [
            "468\n"
          ]
        }
      ]
    },
    {
      "cell_type": "code",
      "source": [
        "#float\n",
        "pi = 3.14\n",
        "print(type(pi))"
      ],
      "metadata": {
        "colab": {
          "base_uri": "https://localhost:8080/"
        },
        "id": "oLhR-hBMoF4h",
        "outputId": "2e1055a0-de62-4d36-d7ed-bba0aeb78b79"
      },
      "execution_count": 13,
      "outputs": [
        {
          "output_type": "stream",
          "name": "stdout",
          "text": [
            "<class 'float'>\n"
          ]
        }
      ]
    },
    {
      "cell_type": "code",
      "source": [
        "#boolean\n",
        "a = False\n",
        "print(type(a))"
      ],
      "metadata": {
        "colab": {
          "base_uri": "https://localhost:8080/"
        },
        "id": "vp6SSNosoQrR",
        "outputId": "2f93a58e-9fe5-448f-f6ab-7a5c95a57f39"
      },
      "execution_count": 15,
      "outputs": [
        {
          "output_type": "stream",
          "name": "stdout",
          "text": [
            "<class 'bool'>\n"
          ]
        }
      ]
    },
    {
      "cell_type": "code",
      "source": [
        "# Type checking and type conversion\n",
        "num_char = len(input(\"what is your name?\"))\n",
        "new_num_char = str(num_char)\n",
        "print(\"Your name has \"+ new_num_char +\" characters\")\n",
        "print(type(num_char))"
      ],
      "metadata": {
        "colab": {
          "base_uri": "https://localhost:8080/"
        },
        "id": "cZdtbGsXodqp",
        "outputId": "eacbf3f5-e2e3-459a-ec79-0acf4570e8b0"
      },
      "execution_count": 10,
      "outputs": [
        {
          "output_type": "stream",
          "name": "stdout",
          "text": [
            "what is your name?qwe\n",
            "Your name has 3 characters\n",
            "<class 'int'>\n"
          ]
        }
      ]
    },
    {
      "cell_type": "code",
      "source": [
        "a = 123\n",
        "print(type(a))"
      ],
      "metadata": {
        "colab": {
          "base_uri": "https://localhost:8080/"
        },
        "id": "S4wJYRuQo6s5",
        "outputId": "c4af0c2f-131f-47eb-d86a-b91a139b1025"
      },
      "execution_count": 11,
      "outputs": [
        {
          "output_type": "stream",
          "name": "stdout",
          "text": [
            "<class 'int'>\n"
          ]
        }
      ]
    },
    {
      "cell_type": "code",
      "source": [
        "a = str(123)\n",
        "print(type(a))"
      ],
      "metadata": {
        "colab": {
          "base_uri": "https://localhost:8080/"
        },
        "id": "tmxvvhK8qXEP",
        "outputId": "d77cdfeb-8b0b-41f4-e7ca-928fae4175fc"
      },
      "execution_count": 13,
      "outputs": [
        {
          "output_type": "stream",
          "name": "stdout",
          "text": [
            "<class 'str'>\n"
          ]
        }
      ]
    },
    {
      "cell_type": "code",
      "source": [
        "print(70+float(\"123.8\"))"
      ],
      "metadata": {
        "colab": {
          "base_uri": "https://localhost:8080/"
        },
        "id": "9KF5YVl_qbWT",
        "outputId": "3518000a-eb9c-4d8f-bba5-360088e20d09"
      },
      "execution_count": 14,
      "outputs": [
        {
          "output_type": "stream",
          "name": "stdout",
          "text": [
            "193.8\n"
          ]
        }
      ]
    },
    {
      "cell_type": "code",
      "source": [
        "print(str(70)+str(100))"
      ],
      "metadata": {
        "colab": {
          "base_uri": "https://localhost:8080/"
        },
        "id": "SEZChFq0qj0I",
        "outputId": "56549e29-6ca1-4036-8f9b-2d8f63aabb52"
      },
      "execution_count": 15,
      "outputs": [
        {
          "output_type": "stream",
          "name": "stdout",
          "text": [
            "70100\n"
          ]
        }
      ]
    },
    {
      "cell_type": "code",
      "source": [
        "# ArithmeticOperation in python\n",
        "print(3+4)\n",
        "print(3-4)\n",
        "print(3/4)\n",
        "print(type(3/4))\n",
        "print(3*4)\n",
        "print(3**2)"
      ],
      "metadata": {
        "colab": {
          "base_uri": "https://localhost:8080/"
        },
        "id": "-yOOELcCrbsU",
        "outputId": "08831403-06a0-454e-f32a-accee4919a73"
      },
      "execution_count": 19,
      "outputs": [
        {
          "output_type": "stream",
          "name": "stdout",
          "text": [
            "7\n",
            "-1\n",
            "0.75\n",
            "<class 'float'>\n",
            "12\n",
            "9\n"
          ]
        }
      ]
    },
    {
      "cell_type": "code",
      "source": [
        "#PEMDAS #L->R\n",
        "print(3*3+3/3-3)\n",
        "print(3/3*3+3-3)\n",
        "print(((12+3)+(12-2)*(12*2)))"
      ],
      "metadata": {
        "colab": {
          "base_uri": "https://localhost:8080/"
        },
        "id": "_bj1Smh_rkyN",
        "outputId": "c639514b-d556-434a-c724-962f3ec3c6ac"
      },
      "execution_count": 23,
      "outputs": [
        {
          "output_type": "stream",
          "name": "stdout",
          "text": [
            "7.0\n",
            "3.0\n",
            "255\n"
          ]
        }
      ]
    },
    {
      "cell_type": "code",
      "source": [
        "print(5/4)\n",
        "print(int(5/4))"
      ],
      "metadata": {
        "colab": {
          "base_uri": "https://localhost:8080/"
        },
        "id": "hSnpmF2HsIsv",
        "outputId": "84d5f70d-9013-47f0-afad-e4779c1b3881"
      },
      "execution_count": 24,
      "outputs": [
        {
          "output_type": "stream",
          "name": "stdout",
          "text": [
            "1.25\n",
            "1\n"
          ]
        }
      ]
    },
    {
      "cell_type": "code",
      "source": [
        "print(3/2)\n",
        "print(3/8)\n",
        "print(round(3/8,2))\n",
        "print(round(3/2))\n",
        "\n"
      ],
      "metadata": {
        "colab": {
          "base_uri": "https://localhost:8080/"
        },
        "id": "wfL60CkKuJGM",
        "outputId": "6bd41a2d-2783-42f9-a77f-3bc8a789d015"
      },
      "execution_count": 34,
      "outputs": [
        {
          "output_type": "stream",
          "name": "stdout",
          "text": [
            "1.5\n",
            "0.375\n",
            "0.38\n",
            "2\n"
          ]
        }
      ]
    },
    {
      "cell_type": "code",
      "source": [
        "print(8//3)\n",
        "print(8/3)"
      ],
      "metadata": {
        "colab": {
          "base_uri": "https://localhost:8080/"
        },
        "id": "cKeUmoLbuQKW",
        "outputId": "02e7c708-d202-4d09-b5bb-95b91916fbef"
      },
      "execution_count": 35,
      "outputs": [
        {
          "output_type": "stream",
          "name": "stdout",
          "text": [
            "2\n",
            "2.6666666666666665\n"
          ]
        }
      ]
    },
    {
      "cell_type": "code",
      "source": [
        "score = 0\n",
        "print(score)\n",
        "score += 1\n",
        "print(score)\n",
        "\n",
        "score -= 1\n",
        "print(score)\n"
      ],
      "metadata": {
        "colab": {
          "base_uri": "https://localhost:8080/"
        },
        "id": "_LE6N6Dlu54c",
        "outputId": "8c349873-42c5-40da-94b5-e445c3bc2e44"
      },
      "execution_count": 36,
      "outputs": [
        {
          "output_type": "stream",
          "name": "stdout",
          "text": [
            "0\n",
            "1\n",
            "0\n"
          ]
        }
      ]
    },
    {
      "cell_type": "code",
      "source": [
        "score = 0\n",
        "height =1.0\n",
        "isWinning = True\n",
        "\n",
        "print(\"Here is the output\" + score + height + isWinning)"
      ],
      "metadata": {
        "colab": {
          "base_uri": "https://localhost:8080/",
          "height": 179
        },
        "id": "hD-JxMZmvgZA",
        "outputId": "b458057e-4d17-4efa-90fc-a82258cf67dd"
      },
      "execution_count": 38,
      "outputs": [
        {
          "output_type": "error",
          "ename": "TypeError",
          "evalue": "can only concatenate str (not \"int\") to str",
          "traceback": [
            "\u001b[0;31m---------------------------------------------------------------------------\u001b[0m",
            "\u001b[0;31mTypeError\u001b[0m                                 Traceback (most recent call last)",
            "\u001b[0;32m<ipython-input-38-14110f3272a5>\u001b[0m in \u001b[0;36m<cell line: 5>\u001b[0;34m()\u001b[0m\n\u001b[1;32m      3\u001b[0m \u001b[0misWinning\u001b[0m \u001b[0;34m=\u001b[0m \u001b[0;32mTrue\u001b[0m\u001b[0;34m\u001b[0m\u001b[0;34m\u001b[0m\u001b[0m\n\u001b[1;32m      4\u001b[0m \u001b[0;34m\u001b[0m\u001b[0m\n\u001b[0;32m----> 5\u001b[0;31m \u001b[0mprint\u001b[0m\u001b[0;34m(\u001b[0m\u001b[0;34m\"Here is the output\"\u001b[0m \u001b[0;34m+\u001b[0m \u001b[0mscore\u001b[0m \u001b[0;34m+\u001b[0m \u001b[0mheight\u001b[0m \u001b[0;34m+\u001b[0m \u001b[0misWinning\u001b[0m\u001b[0;34m)\u001b[0m\u001b[0;34m\u001b[0m\u001b[0;34m\u001b[0m\u001b[0m\n\u001b[0m",
            "\u001b[0;31mTypeError\u001b[0m: can only concatenate str (not \"int\") to str"
          ]
        }
      ]
    },
    {
      "cell_type": "code",
      "source": [
        "score = 0\n",
        "height =1.0\n",
        "isWinning = True\n",
        "\n",
        "print(f\"Here is the output {score} {height} {isWinning}\" )\n",
        "print(\"due to fstring,there is no error\")"
      ],
      "metadata": {
        "colab": {
          "base_uri": "https://localhost:8080/"
        },
        "id": "SQ0izbfav6mW",
        "outputId": "4cfba5de-05f4-4df9-d872-982665410bcc"
      },
      "execution_count": 41,
      "outputs": [
        {
          "output_type": "stream",
          "name": "stdout",
          "text": [
            "Here is the output 0 1.0 True\n",
            "due to fstring,there is no error\n"
          ]
        }
      ]
    },
    {
      "cell_type": "markdown",
      "source": [
        "#Project"
      ],
      "metadata": {
        "id": "nbF7RZWfw9ke"
      }
    },
    {
      "cell_type": "code",
      "source": [
        "print(\"Welcome to the tip calculator :\")\n",
        "bill = float(input(\"what was the total bill :\"))\n",
        "tip = int(input(\"How much tips would you like to give?10, 12 or 15: \"))\n",
        "people = int(input(\"How many people present to split to bill? \"))\n",
        "\n",
        "billwithtip = tip/100*bill + bill\n",
        "print(billwithtip)\n",
        "\n",
        "bill_per_person = billwithtip / people\n",
        "finalamount = round(bill_per_person,2)\n",
        "print(\"Each person should pay \",finalamount)"
      ],
      "metadata": {
        "colab": {
          "base_uri": "https://localhost:8080/"
        },
        "id": "mi4OfhpHxACG",
        "outputId": "68f484e1-6711-41c2-8a5e-798a91cb70ec"
      },
      "execution_count": 53,
      "outputs": [
        {
          "output_type": "stream",
          "name": "stdout",
          "text": [
            "Welcome to the tip calculator :\n",
            "what was the total bill :100\n",
            "How much tips would you like to give?10, 12 or 15: 10\n",
            "How many people present to split to bill? 1\n",
            "110.0\n",
            "Each person should pay  110.0\n"
          ]
        }
      ]
    },
    {
      "cell_type": "code",
      "source": [],
      "metadata": {
        "id": "oIBaJIWe7L3G"
      },
      "execution_count": null,
      "outputs": []
    }
  ]
}