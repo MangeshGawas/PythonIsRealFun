{
  "nbformat": 4,
  "nbformat_minor": 0,
  "metadata": {
    "colab": {
      "provenance": [],
      "authorship_tag": "ABX9TyMEU6LMe+SLuMbvAH56gZUd",
      "include_colab_link": true
    },
    "kernelspec": {
      "name": "python3",
      "display_name": "Python 3"
    },
    "language_info": {
      "name": "python"
    }
  },
  "cells": [
    {
      "cell_type": "markdown",
      "metadata": {
        "id": "view-in-github",
        "colab_type": "text"
      },
      "source": [
        "<a href=\"https://colab.research.google.com/github/MangeshGawas/PythonIsRealFun/blob/main/python2.ipynb\" target=\"_parent\"><img src=\"https://colab.research.google.com/assets/colab-badge.svg\" alt=\"Open In Colab\"/></a>"
      ]
    },
    {
      "cell_type": "markdown",
      "source": [
        "# data types, numbers ,operation ,type conversion , f string\n",
        "\n"
      ],
      "metadata": {
        "id": "N9qDvSUDmQvT"
      }
    },
    {
      "cell_type": "code",
      "source": [
        "#data type\n",
        "\n",
        "#string\n",
        "mystring = \"Hello world\"\n",
        "print(mystring[0])\n",
        "print(mystring[1])\n"
      ],
      "metadata": {
        "colab": {
          "base_uri": "https://localhost:8080/"
        },
        "id": "HdVe78xomLQq",
        "outputId": "8a4bff43-315d-4396-dcbc-8205856ce752"
      },
      "execution_count": 7,
      "outputs": [
        {
          "output_type": "stream",
          "name": "stdout",
          "text": [
            "H\n",
            "e\n",
            "H\n",
            "e\n",
            "l\n",
            "l\n",
            "o\n",
            " \n",
            "w\n",
            "o\n",
            "r\n",
            "l\n",
            "d\n"
          ]
        }
      ]
    },
    {
      "cell_type": "code",
      "source": [
        "for i in range(len(mystring)):\n",
        "  print(mystring[i])"
      ],
      "metadata": {
        "colab": {
          "base_uri": "https://localhost:8080/"
        },
        "id": "gru7Xje3mOsd",
        "outputId": "909323e9-3b6f-420f-a865-165915e57ed7"
      },
      "execution_count": 8,
      "outputs": [
        {
          "output_type": "stream",
          "name": "stdout",
          "text": [
            "H\n",
            "e\n",
            "l\n",
            "l\n",
            "o\n",
            " \n",
            "w\n",
            "o\n",
            "r\n",
            "l\n",
            "d\n"
          ]
        }
      ]
    },
    {
      "cell_type": "code",
      "source": [
        "print(\"123\"+\"345\")"
      ],
      "metadata": {
        "colab": {
          "base_uri": "https://localhost:8080/"
        },
        "id": "GofGTdFonpw-",
        "outputId": "9517e81f-28a9-46dd-b3b0-6c5793ca975c"
      },
      "execution_count": 9,
      "outputs": [
        {
          "output_type": "stream",
          "name": "stdout",
          "text": [
            "123345\n"
          ]
        }
      ]
    },
    {
      "cell_type": "code",
      "source": [
        "#interger\n"
      ],
      "metadata": {
        "id": "L4-0EaEPn1cw"
      },
      "execution_count": null,
      "outputs": []
    }
  ]
}