{
  "nbformat": 4,
  "nbformat_minor": 0,
  "metadata": {
    "colab": {
      "provenance": [],
      "authorship_tag": "ABX9TyOjFxpCYojidAxP82psQwK4",
      "include_colab_link": true
    },
    "kernelspec": {
      "name": "python3",
      "display_name": "Python 3"
    },
    "language_info": {
      "name": "python"
    }
  },
  "cells": [
    {
      "cell_type": "markdown",
      "metadata": {
        "id": "view-in-github",
        "colab_type": "text"
      },
      "source": [
        "<a href=\"https://colab.research.google.com/github/MangeshGawas/PythonIsRealFun/blob/main/python4.ipynb\" target=\"_parent\"><img src=\"https://colab.research.google.com/assets/colab-badge.svg\" alt=\"Open In Colab\"/></a>"
      ]
    },
    {
      "cell_type": "code",
      "execution_count": 1,
      "metadata": {
        "id": "XAcXqTYGUCN8"
      },
      "outputs": [],
      "source": [
        "import random"
      ]
    },
    {
      "cell_type": "code",
      "source": [
        "random_integer = random.randint(1,10)\n",
        "print(random_integer)\n",
        "random_integer = random.randint(1,10)\n",
        "print(random_integer)\n",
        "random_integer = random.randint(1,10)\n",
        "print(random_integer)"
      ],
      "metadata": {
        "id": "0EX4zJ5pUKtU",
        "colab": {
          "base_uri": "https://localhost:8080/"
        },
        "outputId": "1e70df6a-c3b4-4378-874e-8e030d701707"
      },
      "execution_count": 7,
      "outputs": [
        {
          "output_type": "stream",
          "name": "stdout",
          "text": [
            "9\n",
            "8\n",
            "7\n"
          ]
        }
      ]
    },
    {
      "cell_type": "code",
      "source": [
        "random_float = random.random()\n",
        "print(random_float)"
      ],
      "metadata": {
        "id": "NU_5xXLGUwoz",
        "colab": {
          "base_uri": "https://localhost:8080/"
        },
        "outputId": "a270050e-123e-41e7-f200-be2b1c69c8b3"
      },
      "execution_count": 10,
      "outputs": [
        {
          "output_type": "stream",
          "name": "stdout",
          "text": [
            "0.69470759304774\n"
          ]
        }
      ]
    },
    {
      "cell_type": "code",
      "source": [
        "a = list(\"hello\")\n",
        "print(a)\n"
      ],
      "metadata": {
        "colab": {
          "base_uri": "https://localhost:8080/"
        },
        "id": "NJwo7a_GUy8m",
        "outputId": "db9d739d-d0dc-4101-d1a5-fed2729bf015"
      },
      "execution_count": 11,
      "outputs": [
        {
          "output_type": "stream",
          "name": "stdout",
          "text": [
            "['h', 'e', 'l', 'l', 'o']\n"
          ]
        }
      ]
    },
    {
      "cell_type": "code",
      "source": [
        "random_key = random.randint(0,len(a)-1)\n",
        "print(random_key)\n",
        "a[random_key]"
      ],
      "metadata": {
        "id": "fOSx9kUUU2ME",
        "colab": {
          "base_uri": "https://localhost:8080/",
          "height": 53
        },
        "outputId": "1b5feca5-5167-4561-f76f-f608c4b69c1a"
      },
      "execution_count": 15,
      "outputs": [
        {
          "output_type": "stream",
          "name": "stdout",
          "text": [
            "2\n"
          ]
        },
        {
          "output_type": "execute_result",
          "data": {
            "text/plain": [
              "'l'"
            ],
            "application/vnd.google.colaboratory.intrinsic+json": {
              "type": "string"
            }
          },
          "metadata": {},
          "execution_count": 15
        }
      ]
    },
    {
      "cell_type": "code",
      "source": [
        "states_of_India = ['Goa','Kerela','Gujarat']\n",
        "print(type(states_of_India))\n",
        "print(states_of_India[0])\n",
        "print(states_of_India[1])\n",
        "print(states_of_India[2])\n",
        "print(states_of_India[-1])\n",
        "print(states_of_India[-2])\n",
        "print(states_of_India[-3])\n",
        "print(states_of_India)\n",
        "states_of_India[1] = \"Maharastra\" # replacing the index 1 vlaue to updated value\n",
        "print(states_of_India)\n",
        "\n",
        "#Append\n",
        "states_of_India.extend([\"Goa\", \"Karnataka\", \"Haryana\"])\n",
        "print(states_of_India, \"After extending the new state list\")\n",
        "print(len(states_of_India),\"here is the lenght\")\n",
        "\n",
        "\n",
        "\n",
        "\n",
        "\n"
      ],
      "metadata": {
        "colab": {
          "base_uri": "https://localhost:8080/"
        },
        "id": "BQcf8MMv-S51",
        "outputId": "3ba47c91-89fa-4a14-9380-7dc2f90fcd72"
      },
      "execution_count": 26,
      "outputs": [
        {
          "output_type": "stream",
          "name": "stdout",
          "text": [
            "<class 'list'>\n",
            "Goa\n",
            "Kerela\n",
            "Gujarat\n",
            "Gujarat\n",
            "Kerela\n",
            "Goa\n",
            "['Goa', 'Kerela', 'Gujarat']\n",
            "['Goa', 'Maharastra', 'Gujarat']\n",
            "['Goa', 'Maharastra', 'Gujarat', 'Goa', 'Karnataka', 'Haryana'] After extending the new state list\n",
            "6 here is the lenght\n"
          ]
        }
      ]
    },
    {
      "cell_type": "code",
      "source": [],
      "metadata": {
        "id": "uPY4miZS_z1g"
      },
      "execution_count": null,
      "outputs": []
    }
  ]
}