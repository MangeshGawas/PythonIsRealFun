{
  "nbformat": 4,
  "nbformat_minor": 0,
  "metadata": {
    "colab": {
      "provenance": [],
      "authorship_tag": "ABX9TyMn14v1jvQW9PwG8WmkpUX9",
      "include_colab_link": true
    },
    "kernelspec": {
      "name": "python3",
      "display_name": "Python 3"
    },
    "language_info": {
      "name": "python"
    }
  },
  "cells": [
    {
      "cell_type": "markdown",
      "metadata": {
        "id": "view-in-github",
        "colab_type": "text"
      },
      "source": [
        "<a href=\"https://colab.research.google.com/github/MangeshGawas/PythonIsRealFun/blob/main/python5.ipynb\" target=\"_parent\"><img src=\"https://colab.research.google.com/assets/colab-badge.svg\" alt=\"Open In Colab\"/></a>"
      ]
    },
    {
      "cell_type": "code",
      "execution_count": 6,
      "metadata": {
        "colab": {
          "base_uri": "https://localhost:8080/"
        },
        "id": "rvdV-zKnJ1Y7",
        "outputId": "d2348dd8-97d7-49eb-f75b-e64fc393f614"
      },
      "outputs": [
        {
          "output_type": "stream",
          "name": "stdout",
          "text": [
            "apple\n",
            "apple Pie\n",
            "peach\n",
            "peach Pie\n",
            "pear\n",
            "pear Pie\n",
            "['apple', 'peach', 'pear']\n"
          ]
        }
      ],
      "source": [
        "fruits = [\"apple\",'peach','pear']\n",
        "for fruit in fruits:\n",
        "  print(fruit)\n",
        "  print(fruit + \" Pie\")\n",
        "print(fruits)\n"
      ]
    },
    {
      "cell_type": "code",
      "source": [
        "for number in range(10):\n",
        "  print(number)"
      ],
      "metadata": {
        "colab": {
          "base_uri": "https://localhost:8080/"
        },
        "id": "2e4wj9xiKFS0",
        "outputId": "2f1c65b2-57f7-418c-facf-f220fcdc1c56"
      },
      "execution_count": 8,
      "outputs": [
        {
          "output_type": "stream",
          "name": "stdout",
          "text": [
            "0\n",
            "1\n",
            "2\n",
            "3\n",
            "4\n",
            "5\n",
            "6\n",
            "7\n",
            "8\n",
            "9\n"
          ]
        }
      ]
    },
    {
      "cell_type": "code",
      "source": [
        "sum = 0\n",
        "for number in range(100):\n",
        "  sum = 101*50\n",
        "\n",
        "print(sum)"
      ],
      "metadata": {
        "colab": {
          "base_uri": "https://localhost:8080/"
        },
        "id": "FRPFg_E9MR7G",
        "outputId": "ae69102d-73d2-4fd7-bfcc-ed9b4e092c21"
      },
      "execution_count": 11,
      "outputs": [
        {
          "output_type": "stream",
          "name": "stdout",
          "text": [
            "5050\n"
          ]
        }
      ]
    },
    {
      "cell_type": "code",
      "source": [
        "total = 0\n",
        "for number in range(1,101):\n",
        "  total += number\n",
        "print(total)"
      ],
      "metadata": {
        "colab": {
          "base_uri": "https://localhost:8080/"
        },
        "id": "uZqUvUmbMmCW",
        "outputId": "32a13f48-a2f0-4888-a292-68e195ce1c6c"
      },
      "execution_count": 15,
      "outputs": [
        {
          "output_type": "stream",
          "name": "stdout",
          "text": [
            "5050\n"
          ]
        }
      ]
    },
    {
      "cell_type": "markdown",
      "source": [
        "# Project Password generator\n"
      ],
      "metadata": {
        "id": "yy-w1ddWNiwQ"
      }
    },
    {
      "cell_type": "code",
      "source": [
        "import random\n",
        "\n",
        "# Lists of characters\n",
        "letters = [\n",
        "    'a', 'b', 'c', 'd', 'e', 'f', 'g', 'h', 'i', 'j', 'k', 'l', 'm', 'n', 'o', 'p', 'q', 'r', 's', 't', 'u', 'v', 'w', 'x', 'y', 'z',\n",
        "    'A', 'B', 'C', 'D', 'E', 'F', 'G', 'H', 'I', 'J', 'K', 'L', 'M', 'N', 'O', 'P', 'Q', 'R', 'S', 'T', 'U', 'V', 'W', 'X', 'Y', 'Z'\n",
        "]\n",
        "numbers = ['0', '1', '2', '3', '4', '5', '6', '7', '8', '9']\n",
        "symbols = ['!', '@', '#', '$', '%', '^', '&', '*', '(', ')', '-', '_', '+', '=', '<', '>', '?', '/', '|', '\\\\', '{', '}', '[', ']', '~']\n",
        "\n",
        "print(\"Welcome to the password generator\")\n",
        "\n",
        "alph_in_pass = int(input(\"how many alphabet want in your password: \"))\n",
        "numbers_in_pass = int(input(\"how many number want in your password: \"))\n",
        "symbols_in_pass = int(input(\"how many symbols want in your password: \"))\n",
        "\n",
        "password = \"\"\n",
        "\n",
        "for char in range(1,alph_in_pass+1):\n",
        "  random_character = random.choice(letters)\n",
        "  password = password+random_character\n",
        "\n",
        "for number in range(1,numbers_in_pass+1):\n",
        "    password += random.choice(numbers)\n",
        "\n",
        "\n",
        "for symbol in range(1,symbols_in_pass+1):\n",
        "  random_symbol = random.choice(symbols)\n",
        "  password = password+random_symbol\n",
        "\n",
        "password_list = list(password)\n",
        "random.shuffle(password_list)\n",
        "\n",
        "shuffled_password = ''.join(password)\n",
        "print(f\"Shuffled password: {shuffled_password}\")\n",
        "\n",
        "\n",
        "\n",
        "\n",
        "\n"
      ],
      "metadata": {
        "colab": {
          "base_uri": "https://localhost:8080/"
        },
        "id": "LdTNsREdNhU1",
        "outputId": "5d28f4b7-018a-4e30-cb6e-aa11cadd8681"
      },
      "execution_count": 14,
      "outputs": [
        {
          "output_type": "stream",
          "name": "stdout",
          "text": [
            "Welcome to the password generator\n",
            "how many alphabet want in your password: 4\n",
            "how many number want in your password: 4\n",
            "how many symbols want in your password: 4\n",
            "Shuffled password: VxIT3148\\?\\|\n"
          ]
        }
      ]
    },
    {
      "cell_type": "code",
      "source": [
        "4"
      ],
      "metadata": {
        "id": "jbaub7OX1qvy"
      },
      "execution_count": null,
      "outputs": []
    }
  ]
}