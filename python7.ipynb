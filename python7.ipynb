{
  "nbformat": 4,
  "nbformat_minor": 0,
  "metadata": {
    "colab": {
      "provenance": [],
      "authorship_tag": "ABX9TyPuRWTRF9oeiQxqMvzztEi3",
      "include_colab_link": true
    },
    "kernelspec": {
      "name": "python3",
      "display_name": "Python 3"
    },
    "language_info": {
      "name": "python"
    }
  },
  "cells": [
    {
      "cell_type": "markdown",
      "metadata": {
        "id": "view-in-github",
        "colab_type": "text"
      },
      "source": [
        "<a href=\"https://colab.research.google.com/github/MangeshGawas/PythonIsRealFun/blob/main/python7.ipynb\" target=\"_parent\"><img src=\"https://colab.research.google.com/assets/colab-badge.svg\" alt=\"Open In Colab\"/></a>"
      ]
    },
    {
      "cell_type": "code",
      "execution_count": null,
      "metadata": {
        "id": "sLF2WzlN8dLu"
      },
      "outputs": [],
      "source": [
        "import random\n",
        "\n",
        "# Hangman stages as ASCII art\n",
        "hangman_stages = [\n",
        "    \"\"\"\n",
        "     ------\n",
        "     |    |\n",
        "     |\n",
        "     |\n",
        "     |\n",
        "     |\n",
        "     |\n",
        "    ------\n",
        "    \"\"\",\n",
        "    \"\"\"\n",
        "     ------\n",
        "     |    |\n",
        "     |    O\n",
        "     |\n",
        "     |\n",
        "     |\n",
        "     |\n",
        "    ------\n",
        "    \"\"\",\n",
        "    \"\"\"\n",
        "     ------\n",
        "     |    |\n",
        "     |    O\n",
        "     |    |\n",
        "     |\n",
        "     |\n",
        "     |\n",
        "    ------\n",
        "    \"\"\",\n",
        "    \"\"\"\n",
        "     ------\n",
        "     |    |\n",
        "     |    O\n",
        "     |   /|\n",
        "     |\n",
        "     |\n",
        "     |\n",
        "    ------\n",
        "    \"\"\",\n",
        "    \"\"\"\n",
        "     ------\n",
        "     |    |\n",
        "     |    O\n",
        "     |   /|\\\\\n",
        "     |\n",
        "     |\n",
        "     |\n",
        "    ------\n",
        "    \"\"\",\n",
        "    \"\"\"\n",
        "     ------\n",
        "     |    |\n",
        "     |    O\n",
        "     |   /|\\\\\n",
        "     |   /\n",
        "     |\n",
        "     |\n",
        "    ------\n",
        "    \"\"\",\n",
        "    \"\"\"\n",
        "     ------\n",
        "     |    |\n",
        "     |    O\n",
        "     |   /|\\\\\n",
        "     |   / \\\\\n",
        "     |\n",
        "     |\n",
        "    ------\n",
        "    \"\"\"\n",
        "]\n",
        "\n"
      ]
    },
    {
      "cell_type": "markdown",
      "source": [
        "exercise 1\n"
      ],
      "metadata": {
        "id": "0DeQ0ku9G4J0"
      }
    },
    {
      "cell_type": "code",
      "source": [
        "word_list =[\"ardvark\",'baboon',\"camel\"]\n",
        "import random\n",
        "chosen_word = random.choice(word_list)\n",
        "print(chosen_word)\n",
        "\n",
        "guess = input(\"Guess a letter\").lower()\n",
        "\n",
        "for letter in chosen_word:\n",
        "  if letter == guess:\n",
        "    print(\"Right\")\n",
        "  else:\n",
        "    print(\"Wrong\")"
      ],
      "metadata": {
        "id": "QxD9wrjN8fei",
        "colab": {
          "base_uri": "https://localhost:8080/"
        },
        "outputId": "2e9391f4-ef2b-4172-fb7d-5668a7bb34e4"
      },
      "execution_count": 9,
      "outputs": [
        {
          "output_type": "stream",
          "name": "stdout",
          "text": [
            "camel\n",
            "Guess a letterm\n",
            "Wrong\n",
            "Wrong\n",
            "Right\n",
            "Wrong\n",
            "Wrong\n"
          ]
        }
      ]
    },
    {
      "cell_type": "markdown",
      "source": [
        "exercise 2"
      ],
      "metadata": {
        "id": "nEKTx4CjHjOt"
      }
    },
    {
      "cell_type": "code",
      "source": [
        "word_list =[\"ardvark\",'baboon',\"camel\"]\n",
        "import random\n",
        "chosen_word = random.choice(word_list)\n",
        "print(chosen_word)\n",
        "\n",
        "display = []\n",
        "\n",
        "length_of_word = len(chosen_word)\n",
        "for _ in range(length_of_word):\n",
        "  display += \"_\"\n",
        "print(display)\n",
        "\n",
        "guess = input(\"Guess a letter\").lower()\n",
        "\n",
        "for position in range(len(chosen_word)):\n",
        "  letter = chosen_word[position]\n",
        "  if letter == guess:\n",
        "    display[position] = letter\n",
        "\n",
        "print(display)\n",
        "\n",
        "\n"
      ],
      "metadata": {
        "colab": {
          "base_uri": "https://localhost:8080/"
        },
        "id": "GemCU-0yFt94",
        "outputId": "63a9912d-dca7-4691-8111-e07bde54420a"
      },
      "execution_count": 40,
      "outputs": [
        {
          "output_type": "stream",
          "name": "stdout",
          "text": [
            "baboon\n",
            "['_', '_', '_', '_', '_', '_']\n",
            "Guess a letterb\n",
            "['b', '_', 'b', '_', '_', '_']\n"
          ]
        }
      ]
    },
    {
      "cell_type": "code",
      "source": [],
      "metadata": {
        "id": "VHcfAF0pIfro"
      },
      "execution_count": null,
      "outputs": []
    }
  ]
}