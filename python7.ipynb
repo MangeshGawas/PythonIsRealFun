{
  "nbformat": 4,
  "nbformat_minor": 0,
  "metadata": {
    "colab": {
      "provenance": [],
      "authorship_tag": "ABX9TyPAciiHMUkm9OFRASHzxcsv",
      "include_colab_link": true
    },
    "kernelspec": {
      "name": "python3",
      "display_name": "Python 3"
    },
    "language_info": {
      "name": "python"
    }
  },
  "cells": [
    {
      "cell_type": "markdown",
      "metadata": {
        "id": "view-in-github",
        "colab_type": "text"
      },
      "source": [
        "<a href=\"https://colab.research.google.com/github/MangeshGawas/PythonIsRealFun/blob/main/python7.ipynb\" target=\"_parent\"><img src=\"https://colab.research.google.com/assets/colab-badge.svg\" alt=\"Open In Colab\"/></a>"
      ]
    },
    {
      "cell_type": "code",
      "execution_count": null,
      "metadata": {
        "id": "sLF2WzlN8dLu"
      },
      "outputs": [],
      "source": [
        "import random\n",
        "\n",
        "# Hangman stages as ASCII art\n",
        "hangman_stages = [\n",
        "    \"\"\"\n",
        "     ------\n",
        "     |    |\n",
        "     |\n",
        "     |\n",
        "     |\n",
        "     |\n",
        "     |\n",
        "    ------\n",
        "    \"\"\",\n",
        "    \"\"\"\n",
        "     ------\n",
        "     |    |\n",
        "     |    O\n",
        "     |\n",
        "     |\n",
        "     |\n",
        "     |\n",
        "    ------\n",
        "    \"\"\",\n",
        "    \"\"\"\n",
        "     ------\n",
        "     |    |\n",
        "     |    O\n",
        "     |    |\n",
        "     |\n",
        "     |\n",
        "     |\n",
        "    ------\n",
        "    \"\"\",\n",
        "    \"\"\"\n",
        "     ------\n",
        "     |    |\n",
        "     |    O\n",
        "     |   /|\n",
        "     |\n",
        "     |\n",
        "     |\n",
        "    ------\n",
        "    \"\"\",\n",
        "    \"\"\"\n",
        "     ------\n",
        "     |    |\n",
        "     |    O\n",
        "     |   /|\\\\\n",
        "     |\n",
        "     |\n",
        "     |\n",
        "    ------\n",
        "    \"\"\",\n",
        "    \"\"\"\n",
        "     ------\n",
        "     |    |\n",
        "     |    O\n",
        "     |   /|\\\\\n",
        "     |   /\n",
        "     |\n",
        "     |\n",
        "    ------\n",
        "    \"\"\",\n",
        "    \"\"\"\n",
        "     ------\n",
        "     |    |\n",
        "     |    O\n",
        "     |   /|\\\\\n",
        "     |   / \\\\\n",
        "     |\n",
        "     |\n",
        "    ------\n",
        "    \"\"\"\n",
        "]\n",
        "\n"
      ]
    },
    {
      "cell_type": "markdown",
      "source": [
        "exercise 1\n"
      ],
      "metadata": {
        "id": "0DeQ0ku9G4J0"
      }
    },
    {
      "cell_type": "code",
      "source": [
        "word_list =[\"ardvark\",'baboon',\"camel\"]\n",
        "import random\n",
        "chosen_word = random.choice(word_list)\n",
        "print(chosen_word)\n",
        "\n",
        "guess = input(\"Guess a letter\").lower()\n",
        "\n",
        "for letter in chosen_word:\n",
        "  if letter == guess:\n",
        "    print(\"Right\")\n",
        "  else:\n",
        "    print(\"Wrong\")"
      ],
      "metadata": {
        "id": "QxD9wrjN8fei",
        "colab": {
          "base_uri": "https://localhost:8080/"
        },
        "outputId": "2e9391f4-ef2b-4172-fb7d-5668a7bb34e4"
      },
      "execution_count": null,
      "outputs": [
        {
          "output_type": "stream",
          "name": "stdout",
          "text": [
            "camel\n",
            "Guess a letterm\n",
            "Wrong\n",
            "Wrong\n",
            "Right\n",
            "Wrong\n",
            "Wrong\n"
          ]
        }
      ]
    },
    {
      "cell_type": "markdown",
      "source": [
        "exercise 2"
      ],
      "metadata": {
        "id": "nEKTx4CjHjOt"
      }
    },
    {
      "cell_type": "code",
      "source": [
        "word_list =[\"ardvark\",'baboon',\"camel\"]\n",
        "import random\n",
        "chosen_word = random.choice(word_list)\n",
        "print(chosen_word)\n",
        "\n",
        "display = []\n",
        "\n",
        "length_of_word = len(chosen_word)\n",
        "for _ in range(length_of_word):\n",
        "  display += \"_\"\n",
        "print(display)\n",
        "\n",
        "guess = input(\"Guess a letter\").lower()\n",
        "\n",
        "for position in range(len(chosen_word)):\n",
        "  letter = chosen_word[position]\n",
        "  if letter == guess:\n",
        "    display[position] = letter\n",
        "\n",
        "print(display)\n",
        "\n",
        "\n"
      ],
      "metadata": {
        "colab": {
          "base_uri": "https://localhost:8080/"
        },
        "id": "GemCU-0yFt94",
        "outputId": "63a9912d-dca7-4691-8111-e07bde54420a"
      },
      "execution_count": null,
      "outputs": [
        {
          "output_type": "stream",
          "name": "stdout",
          "text": [
            "baboon\n",
            "['_', '_', '_', '_', '_', '_']\n",
            "Guess a letterb\n",
            "['b', '_', 'b', '_', '_', '_']\n"
          ]
        }
      ]
    },
    {
      "cell_type": "code",
      "source": [
        "word_list =[\"ardvark\",'baboon',\"camel\"]\n",
        "import random\n",
        "chosen_word = random.choice(word_list)\n",
        "print(chosen_word)\n",
        "\n",
        "display = []\n",
        "\n",
        "length_of_word = len(chosen_word)\n",
        "for _ in range(length_of_word):\n",
        "  display += \"_\"\n",
        "print(display)\n",
        "\n",
        "end_of_game = False\n",
        "\n",
        "while not end_of_game:\n",
        "  guess = input(\"Guess a letter\").lower()\n",
        "  for position in range(len(chosen_word)):\n",
        "    letter = chosen_word[position]\n",
        "    if letter == guess:\n",
        "      display[position] = letter\n",
        "  print(display)\n",
        "  if \"_\" not in display:\n",
        "    end_of_game = True\n",
        "    print(\"You Win\")\n",
        "\n",
        "\n",
        "print(display)\n",
        "\n",
        "\n",
        "\n",
        "\n"
      ],
      "metadata": {
        "id": "VHcfAF0pIfro",
        "colab": {
          "base_uri": "https://localhost:8080/"
        },
        "outputId": "679304c0-ed50-4010-bd57-91dbaed1b384"
      },
      "execution_count": 6,
      "outputs": [
        {
          "output_type": "stream",
          "name": "stdout",
          "text": [
            "baboon\n",
            "['_', '_', '_', '_', '_', '_']\n",
            "Guess a letterb\n",
            "['b', '_', 'b', '_', '_', '_']\n",
            "Guess a lettero\n",
            "['b', '_', 'b', 'o', 'o', '_']\n",
            "Guess a lettern\n",
            "['b', '_', 'b', 'o', 'o', 'n']\n",
            "Guess a lettera\n",
            "['b', 'a', 'b', 'o', 'o', 'n']\n",
            "You Win\n",
            "['b', 'a', 'b', 'o', 'o', 'n']\n"
          ]
        }
      ]
    },
    {
      "cell_type": "code",
      "source": [],
      "metadata": {
        "id": "I9eEvSDxxiF6"
      },
      "execution_count": null,
      "outputs": []
    }
  ]
}